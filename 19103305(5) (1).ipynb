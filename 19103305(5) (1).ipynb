{
  "cells": [
    {
      "cell_type": "markdown",
      "metadata": {
        "id": "THMsdJyN3del"
      },
      "source": [
        "Name :- Amar Deep\n",
        "\n",
        "Roll no :- 19103305\n",
        "\n",
        "Subject:- DAA\n",
        "\n",
        "Course :- B Tech 3rd year\n",
        "\n",
        "Semester:- 6th\n",
        "\n",
        "Branch:- CSE"
      ]
    },
    {
      "cell_type": "markdown",
      "metadata": {
        "id": "mPgFIjFl5_Pl"
      },
      "source": [
        "**Q1:**"
      ]
    },
    {
      "cell_type": "code",
      "execution_count": null,
      "metadata": {
        "colab": {
          "base_uri": "https://localhost:8080/"
        },
        "id": "bjCh0XbQ5h4W",
        "outputId": "75b8b1a8-211d-4eae-d446-974474bb270a"
      },
      "outputs": [
        {
          "data": {
            "text/plain": [
              "9"
            ]
          },
          "execution_count": 1,
          "metadata": {},
          "output_type": "execute_result"
        }
      ],
      "source": [
        "## T(n) = 3T(n/2) + 2log(n)\n",
        "def root(n, k):\n",
        "\n",
        "    i = n;\n",
        "\n",
        "    ## log(n)\n",
        "    while (i > 1) :\n",
        "        k = k + 3\n",
        "        i = i / 2\n",
        "\n",
        "    ## log(n)\n",
        "    while (i > 1) :\n",
        "        k = k + 3\n",
        "        i = i / 2\n",
        "\n",
        "    ## 3*T(n/2)\n",
        "    if (n == 1):\n",
        "        return 1\n",
        "    else:\n",
        "        return (root(n//2, 2 * k) + root(n//2, k) + root(n//2, k//2))\n",
        "\n",
        "root(4, 2)"
      ]
    },
    {
      "cell_type": "markdown",
      "metadata": {
        "id": "vFCghzuQ6K-h"
      },
      "source": [
        "**Q2:**"
      ]
    },
    {
      "cell_type": "code",
      "execution_count": null,
      "metadata": {
        "colab": {
          "base_uri": "https://localhost:8080/"
        },
        "id": "unHge3fL6Rgl",
        "outputId": "33635105-6b5b-4052-b6d9-efcb7077d6c0"
      },
      "outputs": [
        {
          "data": {
            "text/plain": [
              "32"
            ]
          },
          "execution_count": 2,
          "metadata": {},
          "output_type": "execute_result"
        }
      ],
      "source": [
        "def power(x, n):\n",
        "\n",
        "    i = 1\n",
        "    k = 0\n",
        "    while (i <= n):\n",
        "        k += 3\n",
        "        i += 1\n",
        "\n",
        "    if (n == 0):\n",
        "        return 1\n",
        "\n",
        "    if (n == 1):\n",
        "        return x;\n",
        "\n",
        "    if (n % 2 == 0):\n",
        "        return (power(x, n//2) * power(x, n//2))\n",
        "\n",
        "    else:\n",
        "        return (power(x, n//2) * power(x, n//2) * x)\n",
        "\n",
        "power(2,5)"
      ]
    },
    {
      "cell_type": "markdown",
      "metadata": {
        "id": "l_cA7JJ86moi"
      },
      "source": [
        "**Q3:**"
      ]
    },
    {
      "cell_type": "code",
      "execution_count": null,
      "metadata": {
        "colab": {
          "base_uri": "https://localhost:8080/"
        },
        "id": "8wHZpXHW6psL",
        "outputId": "38e4d32a-7a11-42bc-9180-1260f42ddffd"
      },
      "outputs": [
        {
          "data": {
            "text/plain": [
              "30"
            ]
          },
          "execution_count": 3,
          "metadata": {},
          "output_type": "execute_result"
        }
      ],
      "source": [
        "def method(n, k):\n",
        "\n",
        "    SUM = 0\n",
        "    for i in range(1, n*n + 1):\n",
        "        for j in range(i):\n",
        "            if (n <= 1):\n",
        "                return n\n",
        "        SUM += 1\n",
        "\n",
        "    return (method(n - 1, k//2) + k + method(n - 1, k))\n",
        "\n",
        "method(4, 5)"
      ]
    },
    {
      "cell_type": "markdown",
      "metadata": {
        "id": "jzo11H6A64mj"
      },
      "source": [
        "# **MergeSort**"
      ]
    },
    {
      "cell_type": "code",
      "execution_count": null,
      "metadata": {
        "id": "EyzBawld_7eR"
      },
      "outputs": [],
      "source": [
        "def merge_sort(A):\n",
        "\n",
        "    n = len(A)\n",
        "    if n==1:\n",
        "        return A\n",
        "    mid = n//2     # floor division\n",
        "    L = merge_sort(A[:mid])\n",
        "    R = merge_sort(A[mid:])\n",
        "    return merge(L,R)\n",
        "\n",
        "# Merge Two Sequences\n",
        "def merge(L,R):\n",
        "\n",
        "    i = 0\n",
        "    j = 0\n",
        "    answer = []\n",
        "    while i<len(L) and j<len(R):\n",
        "        if L[i]<R[j]:\n",
        "            answer.append(L[i])\n",
        "            i += 1\n",
        "        else:\n",
        "            answer.append(R[j])\n",
        "            j += 1\n",
        "    if i<len(L):\n",
        "        answer.extend(L[i:])\n",
        "    if j<len(R):\n",
        "        answer.extend(R[j:])\n",
        "    return answer\n",
        "\n"
      ]
    },
    {
      "cell_type": "code",
      "execution_count": null,
      "metadata": {
        "colab": {
          "base_uri": "https://localhost:8080/"
        },
        "id": "0EbhbHlccEHk",
        "outputId": "1a46010a-880b-4bfa-8c7d-b5f46f65f944"
      },
      "outputs": [
        {
          "name": "stdout",
          "output_type": "stream",
          "text": [
            "Wall time: 0 ns\n"
          ]
        },
        {
          "data": {
            "text/plain": [
              "[0, 2, 7, 12, 45, 89]"
            ]
          },
          "execution_count": 4,
          "metadata": {},
          "output_type": "execute_result"
        }
      ],
      "source": [
        " %%time\n",
        "merge_sort([45, 12, 89, 2, 7, 0])"
      ]
    },
    {
      "cell_type": "code",
      "execution_count": null,
      "metadata": {
        "colab": {
          "base_uri": "https://localhost:8080/"
        },
        "id": "aWdjY7P5cL93",
        "outputId": "30cf3c69-b4b2-4e1b-afbd-5b7f08bf0526"
      },
      "outputs": [
        {
          "name": "stdout",
          "output_type": "stream",
          "text": [
            "27.4 µs ± 3.06 µs per loop (mean ± std. dev. of 7 runs, 10000 loops each)\n"
          ]
        }
      ],
      "source": [
        "%%timeit\n",
        "merge_sort([45, 12, 89, 2, 7, 0])"
      ]
    },
    {
      "cell_type": "markdown",
      "metadata": {
        "id": "oUpGF3Ly82gO"
      },
      "source": [
        "\n",
        "\n",
        "# **Quick Sort**"
      ]
    },
    {
      "cell_type": "code",
      "execution_count": null,
      "metadata": {
        "colab": {
          "base_uri": "https://localhost:8080/"
        },
        "id": "vSH3V0cM86Ir",
        "outputId": "b14169a0-fb69-4657-bc9a-564e95aa0be9"
      },
      "outputs": [
        {
          "name": "stdout",
          "output_type": "stream",
          "text": [
            "[0, 2, 7, 9, 12, 25, 45]\n"
          ]
        }
      ],
      "source": [
        "# Quick sort in Python\n",
        "\n",
        "def quickSort(arr, low, high):\n",
        "    if (low < high):\n",
        "        pivot_index = partition(arr, low, high)\n",
        "\n",
        "        quickSort(arr, low, pivot_index-1)   # Before pivot_index\n",
        "        quickSort(arr, pivot_index+1, high)  # After pivot_index\n",
        "\n",
        "def partition(arr, low, high):\n",
        "    i = (low - 1)\n",
        "    pivot = arr[high]\n",
        "\n",
        "    for j in range(low, high):\n",
        "        if arr[j] <= pivot:\n",
        "            i += 1\n",
        "            arr[i], arr[j] = arr[j], arr[i]\n",
        "    arr[i+1], arr[high] = arr[high], arr[i+1]\n",
        "\n",
        "    return (i+1)\n",
        "\n",
        "arr = [45, 12, 25,9, 2, 7, 0]\n",
        "quickSort(arr, 0, len(arr)-1)\n",
        "print(arr)"
      ]
    },
    {
      "cell_type": "code",
      "execution_count": null,
      "metadata": {
        "colab": {
          "base_uri": "https://localhost:8080/"
        },
        "id": "POwdY0HUh5Jr",
        "outputId": "009a6a5c-1001-4f36-cc94-41d501aa115f"
      },
      "outputs": [
        {
          "name": "stdout",
          "output_type": "stream",
          "text": [
            "100000 loops, best of 5: 8.18 µs per loop\n"
          ]
        }
      ],
      "source": [
        "%%timeit\n",
        "quickSort([45, 12, 25,9, 2, 7, 0], 0, len(arr)-1)"
      ]
    },
    {
      "cell_type": "markdown",
      "metadata": {
        "id": "QmVos-f0Wk0E"
      },
      "source": [
        "# **Object-3**\n",
        "\n",
        "\n",
        "**Write a program to perform sorting operations by divide and conquer (Merge Sort Algo) Also estimate and stimulate the time taken on linear array data structure**\n",
        "\n"
      ]
    },
    {
      "cell_type": "code",
      "execution_count": null,
      "metadata": {
        "id": "X3YlGnthWtHv"
      },
      "outputs": [],
      "source": [
        "def mergeSort(A):\n",
        "\n",
        "    n = len(A)\n",
        "    if n==1:\n",
        "        return A\n",
        "    mid = n//2     # floor division\n",
        "    L = mergeSort(A[:mid])\n",
        "    R = mergeSort(A[mid:])\n",
        "    return merge(L,R)\n",
        "\n",
        "# Merge Two Sequences\n",
        "def merge(L,R):\n",
        "\n",
        "    i = 0\n",
        "    j = 0\n",
        "    answer = []\n",
        "    while i<len(L) and j<len(R):\n",
        "        if L[i]<R[j]:\n",
        "            answer.append(L[i])\n",
        "            i += 1\n",
        "        else:\n",
        "            answer.append(R[j])\n",
        "            j += 1\n",
        "    if i<len(L):\n",
        "        answer.extend(L[i:])\n",
        "    if j<len(R):\n",
        "        answer.extend(R[j:])\n",
        "    return answer"
      ]
    },
    {
      "cell_type": "code",
      "execution_count": null,
      "metadata": {
        "colab": {
          "base_uri": "https://localhost:8080/"
        },
        "id": "F6sAhIZQYzSf",
        "outputId": "4228d816-56e8-43da-ae0b-2fa3fc067ee4"
      },
      "outputs": [
        {
          "name": "stdout",
          "output_type": "stream",
          "text": [
            "CPU times: user 26 µs, sys: 0 ns, total: 26 µs\n",
            "Wall time: 29.8 µs\n"
          ]
        },
        {
          "data": {
            "text/plain": [
              "[4, 8, 11, 22, 33, 55, 66, 77, 99]"
            ]
          },
          "execution_count": 38,
          "metadata": {},
          "output_type": "execute_result"
        }
      ],
      "source": [
        "%%time\n",
        "mergeSort([11,99,22,8,33,77,4,66,55])"
      ]
    },
    {
      "cell_type": "code",
      "execution_count": null,
      "metadata": {
        "id": "f-rSSvqTjcva"
      },
      "outputs": [],
      "source": [
        "%%timeit\n",
        "mergeSort([11,99,22,8,33,77,44,66,55])"
      ]
    },
    {
      "cell_type": "markdown",
      "metadata": {
        "id": "CGU9bfGhabdA"
      },
      "source": [
        "# Object-4\n",
        "\n",
        "\n",
        "**Write a program to implement the Hoffman code data compression technique. Also, stipulate the time taken by this programme on the given data set**"
      ]
    },
    {
      "cell_type": "code",
      "execution_count": null,
      "metadata": {
        "colab": {
          "base_uri": "https://localhost:8080/"
        },
        "id": "vUljP2Ygad6n",
        "outputId": "9d40f7cf-16b9-4778-fa4a-e071d889db56"
      },
      "outputs": [
        {
          "name": "stdout",
          "output_type": "stream",
          "text": [
            " Char | Huffman code \n",
            "----------------------\n",
            " 'C'  |           0\n",
            " 'A'  |          11\n",
            " 'D'  |         101\n",
            " 'B'  |         100\n"
          ]
        },
        {
          "data": {
            "text/plain": [
              "0.0010001659393310547"
            ]
          },
          "execution_count": 2,
          "metadata": {},
          "output_type": "execute_result"
        }
      ],
      "source": [
        "string = 'BCAADDDDCCACCACACA'\n",
        "\n",
        "\n",
        "# Creating tree nodes\n",
        "class NodeTree(object):\n",
        "\n",
        "    def __init__(self, left=None, right=None):\n",
        "        self.left = left\n",
        "        self.right = right\n",
        "\n",
        "    def children(self):\n",
        "        return (self.left, self.right)\n",
        "\n",
        "    def nodes(self):\n",
        "        return (self.left, self.right)\n",
        "\n",
        "    def __str__(self):\n",
        "        return '%s_%s' % (self.left, self.right)\n",
        "\n",
        "\n",
        "# Main function implementing huffman coding\n",
        "def huffman_code(node, left=True, binString=''):\n",
        "    if type(node) is str:\n",
        "        return {node: binString}\n",
        "    (l, r) = node.children()\n",
        "    d = dict()\n",
        "    d.update(huffman_code(l, True, binString + '0'))\n",
        "    d.update(huffman_code(r, False, binString + '1'))\n",
        "    return d\n",
        "\n",
        "\n",
        "# Calculating frequency\n",
        "freq = {}\n",
        "for c in string:\n",
        "    if c in freq:\n",
        "        freq[c] += 1\n",
        "    else:\n",
        "        freq[c] = 1\n",
        "\n",
        "freq = sorted(freq.items(), key=lambda x: x[1], reverse=True)\n",
        "\n",
        "nodes = freq\n",
        "\n",
        "while len(nodes) > 1:\n",
        "    (key1, c1) = nodes[-1]\n",
        "    (key2, c2) = nodes[-2]\n",
        "    nodes = nodes[:-2]\n",
        "    node = NodeTree(key1, key2)\n",
        "    nodes.append((node, c1 + c2))\n",
        "\n",
        "    nodes = sorted(nodes, key=lambda x: x[1], reverse=True)\n",
        "\n",
        "huffmanCode = huffman_code(nodes[0][0])\n",
        "\n",
        "print(' Char | Huffman code ')\n",
        "print('----------------------')\n",
        "for (char, frequency) in freq:\n",
        "    print(' %-4r |%12s' % (char, huffmanCode[char]))\n",
        "    import time\n",
        "    start = time.time()\n",
        "end = time.time()\n",
        "end-start\n",
        ""
      ]
    },
    {
      "cell_type": "markdown",
      "metadata": {
        "id": "66PNKyiSWkZy"
      },
      "source": [
        "\n",
        "# **Object:5**\n",
        "\n",
        "**Write a program to implement fractional knapsack and also calculate time taken by the program**\n",
        "\n"
      ]
    },
    {
      "cell_type": "code",
      "execution_count": null,
      "metadata": {
        "colab": {
          "base_uri": "https://localhost:8080/"
        },
        "id": "IqNiyvtZN2Zs",
        "outputId": "b82f21ae-86b9-4525-d428-fad28155d29c"
      },
      "outputs": [
        {
          "name": "stdout",
          "output_type": "stream",
          "text": [
            "Maximum value in Knapsack = 220.0\n"
          ]
        },
        {
          "data": {
            "text/plain": [
              "0.0"
            ]
          },
          "execution_count": 3,
          "metadata": {},
          "output_type": "execute_result"
        }
      ],
      "source": [
        "class Item:\n",
        "    def __init__(self, weight, value):\n",
        "        self.weight = weight\n",
        "        self.value = value\n",
        "\n",
        "    def __lt__(self, other):\n",
        "        return self.value//self.weight < other.value//other.weight\n",
        "\n",
        "def fractionalknapsack(weight, value, capacity):\n",
        "\n",
        "    iVal = [Item(weight[i], value[i]) for i in range(len(weight))]\n",
        "\n",
        "    # sorting items by value\n",
        "    iVal.sort(reverse=True)\n",
        "\n",
        "    totalValue = 0\n",
        "    for i in iVal:\n",
        "        curWt = int(i.weight)\n",
        "        curVal = int(i.value)\n",
        "        if capacity - curWt >= 0:\n",
        "            capacity -= curWt\n",
        "            totalValue += curVal\n",
        "        else:\n",
        "            fraction = capacity / curWt\n",
        "            totalValue += curVal * fraction\n",
        "            capacity = int(capacity - (curWt * fraction))\n",
        "            break\n",
        "    return totalValue\n",
        "\n",
        "wt = [10, 40, 20, 30]\n",
        "val = [40, 60, 100, 120]\n",
        "capacity = 50\n",
        "\n",
        "# Function call\n",
        "maxValue = fractionalknapsack(wt, val, capacity)\n",
        "print(\"Maximum value in Knapsack =\", maxValue)\n",
        "\n",
        "import time\n",
        "start = time.time()\n",
        "end = time.time()\n",
        "end-start"
      ]
    },
    {
      "cell_type": "markdown",
      "metadata": {
        "id": "Z1FOS2MKOdh0"
      },
      "source": [
        "# **object-6**\n",
        "\n",
        "**Write a program to find out minimum spanning tree and their weight by kruskal algorithm. Also calculate the time taken by the program on the graph dataset by using disjoint data structure**"
      ]
    },
    {
      "cell_type": "code",
      "execution_count": null,
      "metadata": {
        "colab": {
          "base_uri": "https://localhost:8080/"
        },
        "id": "IxcL7tcBOeEL",
        "outputId": "6f3dac0f-d551-4a3e-821c-8cdda252cf5e"
      },
      "outputs": [
        {
          "name": "stdout",
          "output_type": "stream",
          "text": [
            "Edge \tWeight\n",
            "0 - 2 \t 1\n",
            "3 - 4 \t 1\n",
            "1 - 3 \t 2\n",
            "2 - 3 \t 2\n",
            "1 - 5 \t 3\n",
            "\n",
            "Cost of minimum spanning tree : 9\n"
          ]
        },
        {
          "data": {
            "text/plain": [
              "0.0"
            ]
          },
          "execution_count": 4,
          "metadata": {},
          "output_type": "execute_result"
        }
      ],
      "source": [
        "class Edge :\n",
        "    def __init__(self, src, destination, weight) :\n",
        "        self.src = src\n",
        "        self.dst = destination\n",
        "        self.weight = weight\n",
        "\n",
        "    def __lt__(self, other):\n",
        "        return self.weight < other.weight\n",
        "\n",
        "class Graph :\n",
        "    def __init__(self, num_nodes, edgelist) :\n",
        "        self.num_nodes = num_nodes\n",
        "        self.edgelist = edgelist\n",
        "        self.parent = []\n",
        "        self.rank = []\n",
        "        self.mst = []\n",
        "\n",
        "    def FindParent (self, node) :\n",
        "        if node == self.parent[node] :\n",
        "            return node\n",
        "        return self.FindParent(self.parent[node])\n",
        "\n",
        "    def KruskalMST (self) :\n",
        "        self.edgelist.sort()\n",
        "        self.parent = [i for i in range(self.num_nodes)]  # Every node is the parent of itself at the beginning\n",
        "        self.rank = [0] * self.num_nodes\n",
        "\n",
        "      # union find\n",
        "        for edge in self.edgelist :\n",
        "            root1 = self.FindParent(edge.src)\n",
        "            root2 = self.FindParent(edge.dst)\n",
        "\n",
        "            if root1 != root2 :\n",
        "                self.mst.append(edge)\n",
        "                if self.rank[root1] < self.rank[root2] :\n",
        "                    self.parent[root1] = root2\n",
        "                    self.rank[root2] += 1\n",
        "                else :\n",
        "                    self.parent[root2] = root1\n",
        "                    self.rank[root1] += 1\n",
        "\n",
        "        print (\"Edge \\tWeight\")\n",
        "        cost = 0\n",
        "        for edge in self.mst :\n",
        "            print(edge.src, \"-\", edge.dst, \"\\t\", edge.weight)\n",
        "            cost += edge.weight\n",
        "        print(\"\\nCost of minimum spanning tree : \" +str(cost))\n",
        "\n",
        "if __name__ == \"__main__\" :\n",
        "     num_nodes = 6\n",
        "     e1 = Edge(0, 1, 4)\n",
        "     e2 = Edge(0, 2, 1)\n",
        "     e3 = Edge(0, 3, 5)\n",
        "     e4 = Edge(1, 3, 2)\n",
        "     e5 = Edge(1, 4, 3)\n",
        "     e6 = Edge(1, 5, 3)\n",
        "     e7 = Edge(2, 3, 2)\n",
        "     e8 = Edge(2, 4, 8)\n",
        "     e9 = Edge(3, 4, 1)\n",
        "     e10 = Edge(4, 5, 3)\n",
        "\n",
        "     g1 = Graph(num_nodes, [e1, e2, e3, e4, e5, e6, e7, e8, e9, e10])\n",
        "     g1.KruskalMST()\n",
        "\n",
        "import time\n",
        "start = time.time()\n",
        "end = time.time()\n",
        "end-start"
      ]
    },
    {
      "cell_type": "markdown",
      "metadata": {
        "id": "RKfEMPyiZMA-"
      },
      "source": [
        "# **Question:-  Write applications of disjoint data structure**\n",
        "\n",
        "Ans:- Disjoint-set data structures are one of the most useful data structures for its simplicity and amazing running time.\n",
        "\n",
        "One of the most well-known applications is its use in Kruskal’s Minimal Spanning Tree algorithm, which has a lot of applications in many ways. Using a graph with random weights, Kruskal’s algorithm generates nice random trees, and in particular, this can be used to easily generate mazes of all kinds!"
      ]
    },
    {
      "cell_type": "markdown",
      "metadata": {
        "id": "Jbu8b-ashHGU"
      },
      "source": [
        "### Object 7- Write a program to implement Prim's algorithm"
      ]
    },
    {
      "cell_type": "code",
      "execution_count": null,
      "metadata": {
        "colab": {
          "base_uri": "https://localhost:8080/"
        },
        "id": "00e9pMkaTWOM",
        "outputId": "6c4ec7eb-7066-4327-f751-25cf7f65e236"
      },
      "outputs": [
        {
          "name": "stdout",
          "output_type": "stream",
          "text": [
            "Edge \tWeight\n",
            "0 - 1 \t 2\n",
            "1 - 2 \t 3\n",
            "0 - 3 \t 6\n",
            "1 - 4 \t 5\n",
            "Cost of minimum spanning tree : 16\n"
          ]
        },
        {
          "data": {
            "text/plain": [
              "0.0"
            ]
          },
          "execution_count": 5,
          "metadata": {},
          "output_type": "execute_result"
        }
      ],
      "source": [
        "class Graph():\n",
        "\n",
        "    def __init__(self, vertices, adjacency_matrix=None):\n",
        "        self.V = vertices\n",
        "        self.graph = [[0 for column in range(vertices)]\n",
        "                      for row in range(vertices)] if adjacency_matrix == None else adjacency_matrix\n",
        "\n",
        "    def minKey(self, key, mstSet):\n",
        "        min = None\n",
        "        for v in range(self.V):\n",
        "            if (min is None or key[v] < min) and mstSet[v] == False:\n",
        "                min = key[v]\n",
        "                min_index = v\n",
        "        return min_index\n",
        "\n",
        "    def PrimMST(self):\n",
        "        key = [1000000] * self.V\n",
        "        parent = [None] * self.V\n",
        "        key[0] = 0\n",
        "        mstSet = [False] * self.V\n",
        "        parent[0] = -1\n",
        "\n",
        "        for _ in range(self.V):\n",
        "            u = self.minKey(key, mstSet)\n",
        "            mstSet[u] = True\n",
        "\n",
        "            for v in range(self.V):\n",
        "                weight = self.graph[u][v]\n",
        "                if weight > 0 and mstSet[v] == False and key[v] > weight:\n",
        "                        key[v] = weight\n",
        "                        parent[v] = u\n",
        "\n",
        "        print (\"Edge \\tWeight\")\n",
        "        cost = 0\n",
        "        for i in range(1,self.V):\n",
        "            weight = self.graph[i][ parent[i]]\n",
        "            print (parent[i],\"-\",i,\"\\t\", weight)\n",
        "            cost += weight\n",
        "        print('Cost of minimum spanning tree :', cost)\n",
        "\n",
        "if __name__ == \"__main__\" :\n",
        "    adjacency_matrix = [ [0, 2, 0, 6, 0],\n",
        "              [2, 0, 3, 8, 5],\n",
        "              [0, 3, 0, 0, 7],\n",
        "              [6, 8, 0, 0, 9],\n",
        "              [0, 5, 7, 9, 0],\n",
        "            ]\n",
        "\n",
        "    g  = Graph(5, adjacency_matrix)\n",
        "    g.PrimMST();\n",
        "\n",
        "import time\n",
        "start = time.time()\n",
        "end = time.time()\n",
        "end-start"
      ]
    },
    {
      "cell_type": "markdown",
      "metadata": {
        "id": "L_EgtIwjSQca"
      },
      "source": [
        "### Object 8- **Single Source Shortest Path (Dijkstra Algorithm)**"
      ]
    },
    {
      "cell_type": "code",
      "execution_count": null,
      "metadata": {
        "colab": {
          "base_uri": "https://localhost:8080/"
        },
        "id": "NdKq89i-SSpB",
        "outputId": "cd978e6c-9199-4acd-a001-1f3a72e062dd",
        "scrolled": true
      },
      "outputs": [
        {
          "name": "stdout",
          "output_type": "stream",
          "text": [
            "We found the following best path with a value of 184.\n",
            "Lakhimpur -> Bahraich -> Balrampur\n"
          ]
        }
      ],
      "source": [
        "import math\n",
        "import heapq\n",
        "\n",
        "class Edge :\n",
        "    def __init__(self, src, destination, weight) :\n",
        "        self.src = src\n",
        "        self.dst = destination\n",
        "        self.weight = weight\n",
        "\n",
        "    def __lt__(self, other):\n",
        "        return self.weight < other.weight\n",
        "\n",
        "    def __repr__(self):\n",
        "        return f\"[{self.src}-{self.dst}]({self.weight})\"\n",
        "\n",
        "class Vertex:\n",
        "    def __init__(self, node):\n",
        "        self.id = node\n",
        "        self.adjacent = {}\n",
        "        self.distance = 100000000\n",
        "        self.visited = False\n",
        "\n",
        "    def __getitem__(self, key):\n",
        "        return self.adjacent[key]\n",
        "\n",
        "    def __setitem__(self, key, value):\n",
        "        self.adjacent[key] = value\n",
        "\n",
        "    def __lt__(self, other):\n",
        "        return self.distance < other.distance\n",
        "\n",
        "    def __repr__(self):\n",
        "        return str({x.id for x in self.adjacent})\n",
        "\n",
        "class Graph:\n",
        "    def __init__(self):\n",
        "        self.graph = {}\n",
        "\n",
        "    def __iter__(self):\n",
        "        return iter(self.graph.values())\n",
        "\n",
        "    def __getitem__(self, key):\n",
        "        return self.graph[key]\n",
        "\n",
        "    def add_vertex(self, vertex):\n",
        "        if type(vertex) is list:\n",
        "            for n in vertex:\n",
        "                self.graph[n] = Vertex(n)\n",
        "        else:\n",
        "            self.graph[vertex] = Vertex(vertex)\n",
        "\n",
        "    def add_edge(self, edges:list):\n",
        "        try:\n",
        "            for edge in edges:\n",
        "                if edge.src not in self.graph:\n",
        "                    self.add_vertex(edge.src)\n",
        "                if edge.dst not in self.graph:\n",
        "                    self.add_vertex(edge.dst)\n",
        "\n",
        "                self.graph[edge.src][self.graph[edge.dst]] = edge.weight\n",
        "                self.graph[edge.dst][self.graph[edge.src]] = edge.weight\n",
        "        except TypeError:\n",
        "            print(f'{edges} edges should be type of list')\n",
        "\n",
        "    def get_vertex(self, n):\n",
        "        if n in self.graph:\n",
        "            return self.graph[n]\n",
        "        else:\n",
        "            return None\n",
        "\n",
        "    def get_vertices(self):\n",
        "        return self.graph.keys()\n",
        "\n",
        "    def value(self, vertex1, vertex2):\n",
        "        return self.graph[vertex1][vertex2]\n",
        "\n",
        "    def erase(self):\n",
        "        for v in self:\n",
        "            v.visited = False\n",
        "            v.distance = math.inf\n",
        "\n",
        "def dijkstra_algorithm(graph, start_vertex, target_vertex=None, erase=False):\n",
        "    graph.get_vertex(start_vertex).distance = 0\n",
        "\n",
        "    unvisited_queue = [(v, v.distance) for v in graph]\n",
        "    heapq.heapify(unvisited_queue)\n",
        "\n",
        "    shortest_path = {vertex[0].id:math.inf for vertex in unvisited_queue}\n",
        "    shortest_path[start_vertex] = 0\n",
        "\n",
        "    previous_vertices = {}\n",
        "\n",
        "    while len(unvisited_queue):\n",
        "        uv = heapq.heappop(unvisited_queue)\n",
        "        current = uv[0]\n",
        "        current.visited = True\n",
        "\n",
        "        for next_ in current.adjacent:\n",
        "            if next_.visited:\n",
        "                continue\n",
        "            new_dist = current.distance + current[next_]\n",
        "            if new_dist < next_.distance:\n",
        "                next_.distance = new_dist\n",
        "                shortest_path[next_.id] = new_dist\n",
        "                previous_vertices[next_.id] = current.id\n",
        "\n",
        "        # Rebuild heap\n",
        "        # 1. Pop every item\n",
        "        while len(unvisited_queue):\n",
        "            heapq.heappop(unvisited_queue)\n",
        "        # 2. Put all vertices not visited into the queue\n",
        "        unvisited_queue = [(v, v.distance) for v in graph if not v.visited]\n",
        "        heapq.heapify(unvisited_queue)\n",
        "\n",
        "    if erase:\n",
        "        graph.erase()\n",
        "\n",
        "    if target_vertex:\n",
        "        path = []\n",
        "\n",
        "        vertex = target_vertex\n",
        "        while vertex != start_vertex:\n",
        "            path.append(vertex)\n",
        "            vertex = previous_vertices[graph.get_vertex(vertex).id]\n",
        "\n",
        "        path.append(start_vertex)\n",
        "\n",
        "        print(\"We found the following best path with a value of {}.\".format(shortest_path[target_vertex]))\n",
        "        print(\" -> \".join(reversed(path)))\n",
        "\n",
        "    else:\n",
        "        return previous_vertices, shortest_path\n",
        "g = Graph()\n",
        "g.add_vertex([\"Balrampur\", \"Gonda\", \"Bahraich\", \"Barabanki\", \"Lucknow\", \"Kanpur\", \"Lakhimpur\"])\n",
        "\n",
        "e1, e2 = Edge('Balrampur', 'Gonda', 42), Edge('Balrampur', 'Bahraich', 63)\n",
        "e3, e4 = Edge('Gonda', 'Barabanki', 88), Edge('Gonda', 'Lakhimpur', 181)\n",
        "e5, e6 = Edge('Gonda', 'Bahraich', 64), Edge(\"Lucknow\", 'Barabanki', 28)\n",
        "e7, e8 = Edge('Lakhimpur', 'Kanpur', 225), Edge('Lakhimpur', 'Barabanki', 131)\n",
        "e9, e10 = Edge('Bahraich', 'Lakhimpur', 121), Edge('Bahraich', 'Barabanki', 99)\n",
        "e11 = Edge('Bahraich', 'Kanpur', 224)\n",
        "\n",
        "g.add_edge([e1, e2, e3, e4, e5, e6, e7, e8, e9, e10, e11])\n",
        "dijkstra_algorithm(g, start_vertex='Lakhimpur', target_vertex='Balrampur')\n"
      ]
    },
    {
      "cell_type": "markdown",
      "metadata": {
        "id": "bgw3gAeb3de0"
      },
      "source": [
        "### Floyd Warshall Algo"
      ]
    },
    {
      "cell_type": "code",
      "execution_count": null,
      "metadata": {
        "id": "Q4RI_7xk3de0",
        "outputId": "6947c77b-6b45-4231-d849-c950a68d2545"
      },
      "outputs": [
        {
          "data": {
            "text/plain": [
              "[[0, 3, 7, 5], [2, 0, 6, 4], [3, 1, 0, 5], [5, 3, 2, 6]]"
            ]
          },
          "execution_count": 1,
          "metadata": {},
          "output_type": "execute_result"
        }
      ],
      "source": [
        "import math\n",
        "\n",
        "def floyd_warshall(G, nV):\n",
        "    for i in range(nV):\n",
        "        for j in range(nV):\n",
        "            for k in range(nV):\n",
        "                G[j][k] = min(G[j][k], G[j][i] + G[i][k])\n",
        "    return G\n",
        "\n",
        "G = [\n",
        "    [0, 3, math.inf, 5],\n",
        "    [2, 0, math.inf, 4],\n",
        "    [math.inf, 1, 0, math.inf],\n",
        "    [math.inf, math.inf,2,6 ]\n",
        "]\n",
        "floyd_warshall(G, len(G))"
      ]
    },
    {
      "cell_type": "markdown",
      "metadata": {
        "id": "cEwoTrZY3de1"
      },
      "source": [
        "## Object 10- 0/1 Knapsack Algorithm"
      ]
    },
    {
      "cell_type": "code",
      "execution_count": null,
      "metadata": {
        "id": "ExfudLHQ3de1",
        "outputId": "33a7ed1f-7c0d-496c-ad12-cbd8233f4ed6"
      },
      "outputs": [
        {
          "name": "stdout",
          "output_type": "stream",
          "text": [
            "60\n"
          ]
        }
      ],
      "source": [
        "def knapSack(W, wt, val, n):\n",
        "    if n == 0 or W == 0:\n",
        "        return 0\n",
        "    if (wt[n-1] > W):\n",
        "        return knapSack(W, wt, val, n-1)\n",
        "    else:\n",
        "        return max(\n",
        "            val[n-1] + knapSack(W-wt[n-1], wt, val, n-1),\n",
        "            knapSack(W, wt, val, n-1))\n",
        "#Driver Code\n",
        "\n",
        "val = [10, 20,30,40]\n",
        "\n",
        "wt = [30,10,40,20]\n",
        "\n",
        "W = 40\n",
        "\n",
        "n = len(val)\n",
        "\n",
        "print(knapSack(W, wt, val, n))"
      ]
    },
    {
      "cell_type": "markdown",
      "metadata": {
        "id": "lJtNIwXk3de1"
      },
      "source": [
        "# Breadth First Search(BFS)"
      ]
    },
    {
      "cell_type": "code",
      "execution_count": null,
      "metadata": {
        "id": "vLPWRNLy3de1",
        "outputId": "67f98d27-f9d9-4b38-9ae0-d93454a4394b"
      },
      "outputs": [
        {
          "name": "stdout",
          "output_type": "stream",
          "text": [
            "The Breadth First Search\n",
            "A B C D E F G H "
          ]
        }
      ],
      "source": [
        "graph={\n",
        "    'A' : ['B','C','D'],\n",
        "    'B' : ['E','F'],\n",
        "    'C' : ['G'],\n",
        "    'D' : ['H'],\n",
        "    'G' : ['H'],\n",
        "    'E' : [],\n",
        "    'F' : [],\n",
        "    'G' : [],\n",
        "    'H' : []\n",
        "}\n",
        "visited = []\n",
        "queue = []\n",
        "\n",
        "def bfs(visited,graph,node):\n",
        "    visited.append(node)\n",
        "    queue.append(node)\n",
        "    while queue:\n",
        "        m = queue.pop(0)\n",
        "        print(m,end = \" \")\n",
        "        for neighbour in graph[m]:\n",
        "            if neighbour not in  visited:\n",
        "                visited.append(neighbour)\n",
        "                queue.append(neighbour)\n",
        "\n",
        "#Driver code\n",
        "print(\"The Breadth First Search\")\n",
        "bfs(visited,graph,'A')"
      ]
    },
    {
      "cell_type": "markdown",
      "metadata": {
        "id": "Tg9LWxIU3de1"
      },
      "source": [
        "# Depth First Search"
      ]
    },
    {
      "cell_type": "code",
      "execution_count": null,
      "metadata": {
        "id": "L56V4DaZ3de2",
        "outputId": "c6a311a3-1acd-4783-a25a-71dc50d8a76b"
      },
      "outputs": [
        {
          "name": "stdout",
          "output_type": "stream",
          "text": [
            "The Depth First Search\n",
            "A B E F C G D H "
          ]
        }
      ],
      "source": [
        "graph={\n",
        "    'A' : ['B','C','D'],\n",
        "    'B' : ['E','F'],\n",
        "    'C' : ['G'],\n",
        "    'D' : ['H'],\n",
        "    'G' : ['H'],\n",
        "    'E' : [],\n",
        "    'F' : [],\n",
        "    'G' : [],\n",
        "    'H' : []\n",
        "}\n",
        "visited = []\n",
        "queue = []\n",
        "\n",
        "def dfs(visited,graph,node):\n",
        "    if node in visited: return\n",
        "    visited.append(node)\n",
        "    queue.append(node)\n",
        "    while queue:\n",
        "        m = queue.pop(0)\n",
        "        print(m,end = \" \")\n",
        "        for neighbour in graph[m]:\n",
        "            if neighbour not in  visited:\n",
        "                dfs(visited, graph, neighbour)\n",
        "\n",
        "#Driver code\n",
        "print(\"The Depth First Search\")\n",
        "dfs(visited,graph,'A')"
      ]
    },
    {
      "cell_type": "markdown",
      "metadata": {
        "id": "5GfLVO4I3de2"
      },
      "source": [
        "# Kosaraju's algorithm  (strongly connected components)"
      ]
    },
    {
      "cell_type": "code",
      "execution_count": null,
      "metadata": {
        "id": "ZKzWVcFY3de2",
        "outputId": "abc8bfcc-1ece-4a37-e494-4ec9edad6f3d"
      },
      "outputs": [
        {
          "name": "stdout",
          "output_type": "stream",
          "text": [
            "Strongly Connected Components:\n",
            "0321\n",
            "465\n",
            "7\n"
          ]
        }
      ],
      "source": [
        "from collections import defaultdict\n",
        "\n",
        "class Graph:\n",
        "\n",
        "    def __init__(self, vertex):\n",
        "        self.V = vertex\n",
        "        self.graph = defaultdict(list)\n",
        "\n",
        "    # Add edge into the graph\n",
        "    def add_edge(self, s, d):\n",
        "        self.graph[s].append(d)\n",
        "\n",
        "    # dfs\n",
        "    def dfs(self, d, visited_vertex):\n",
        "        visited_vertex[d] = True\n",
        "        print(d, end='')\n",
        "        for i in self.graph[d]:\n",
        "            if not visited_vertex[i]:\n",
        "                self.dfs(i, visited_vertex)\n",
        "\n",
        "    def fill_order(self, d, visited_vertex, stack):\n",
        "        visited_vertex[d] = True\n",
        "        for i in self.graph[d]:\n",
        "            if not visited_vertex[i]:\n",
        "                self.fill_order(i, visited_vertex, stack)\n",
        "        stack = stack.append(d)\n",
        "\n",
        "    # transpose the matrix\n",
        "    def transpose(self):\n",
        "        g = Graph(self.V)\n",
        "\n",
        "        for i in self.graph:\n",
        "            for j in self.graph[i]:\n",
        "                g.add_edge(j, i)\n",
        "        return g\n",
        "\n",
        "    # stongly connected components\n",
        "    def print_scc(self):\n",
        "        stack = []\n",
        "        visited_vertex = [False] * (self.V)\n",
        "\n",
        "        for i in range(self.V):\n",
        "            if not visited_vertex[i]:\n",
        "                self.fill_order(i, visited_vertex, stack)\n",
        "\n",
        "        gr = self.transpose()\n",
        "\n",
        "        visited_vertex = [False] * (self.V)\n",
        "\n",
        "        while stack:\n",
        "            i = stack.pop()\n",
        "            if not visited_vertex[i]:\n",
        "                gr.dfs(i, visited_vertex)\n",
        "                print(\"\")\n",
        "\n",
        "\n",
        "g = Graph(8)\n",
        "g.add_edge(0, 1)\n",
        "g.add_edge(1, 2)\n",
        "g.add_edge(2, 3)\n",
        "g.add_edge(2, 4)\n",
        "g.add_edge(3, 0)\n",
        "g.add_edge(4, 5)\n",
        "g.add_edge(5, 6)\n",
        "g.add_edge(6, 4)\n",
        "g.add_edge(6, 7)\n",
        "\n",
        "print(\"Strongly Connected Components:\")\n",
        "g.print_scc()\n"
      ]
    },
    {
      "cell_type": "code",
      "execution_count": null,
      "metadata": {
        "id": "pKeMPA6o3de3"
      },
      "outputs": [],
      "source": []
    },
    {
      "cell_type": "code",
      "execution_count": null,
      "metadata": {
        "id": "x58hTxDN3de3"
      },
      "outputs": [],
      "source": []
    },
    {
      "cell_type": "code",
      "execution_count": null,
      "metadata": {
        "id": "8aDY-ksA3de3"
      },
      "outputs": [],
      "source": []
    },
    {
      "cell_type": "code",
      "execution_count": null,
      "metadata": {
        "id": "a-TOqi5C3de3"
      },
      "outputs": [],
      "source": []
    }
  ],
  "metadata": {
    "colab": {
      "provenance": []
    },
    "kernelspec": {
      "display_name": "Python 3",
      "language": "python",
      "name": "python3"
    },
    "language_info": {
      "codemirror_mode": {
        "name": "ipython",
        "version": 3
      },
      "file_extension": ".py",
      "mimetype": "text/x-python",
      "name": "python",
      "nbconvert_exporter": "python",
      "pygments_lexer": "ipython3",
      "version": "3.8.5"
    }
  },
  "nbformat": 4,
  "nbformat_minor": 0
}